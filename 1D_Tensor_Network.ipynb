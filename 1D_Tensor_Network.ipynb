{
  "nbformat": 4,
  "nbformat_minor": 0,
  "metadata": {
    "colab": {
      "name": "1D-Tensor-Network.ipynb",
      "version": "0.3.2",
      "provenance": [],
      "collapsed_sections": [],
      "include_colab_link": true
    },
    "kernelspec": {
      "name": "python3",
      "display_name": "Python 3"
    }
  },
  "cells": [
    {
      "cell_type": "markdown",
      "metadata": {
        "id": "view-in-github",
        "colab_type": "text"
      },
      "source": [
        "<a href=\"https://colab.research.google.com/github/kryogenica/MERA_Wavelet_Tensor_Network/blob/master/1D_Tensor_Network.ipynb\" target=\"_parent\"><img src=\"https://colab.research.google.com/assets/colab-badge.svg\" alt=\"Open In Colab\"/></a>"
      ]
    },
    {
      "cell_type": "markdown",
      "metadata": {
        "id": "0YCMBX3ql42V",
        "colab_type": "text"
      },
      "source": [
        "# Construction of Binary Unitary Circuits\n",
        "**This notebook intends to convert all the math found in the following paper: *[Representation and design of wavelets using unitary circuits](https://arxiv.org/pdf/1605.07312.pdf)*  into python functions/code. [This notebook is currently under construction.] **\n",
        "\n",
        "\n",
        "Constructed by Bryant E. Avila"
      ]
    },
    {
      "cell_type": "code",
      "metadata": {
        "id": "yKR6ZKFsX4yC",
        "colab_type": "code",
        "colab": {}
      },
      "source": [
        "#Numpy will help dealing with arrays/tensors.\n",
        "#Math will aid trig functions and values.\n",
        "import numpy as np\n",
        "import math as Mh"
      ],
      "execution_count": 0,
      "outputs": []
    },
    {
      "cell_type": "markdown",
      "metadata": {
        "id": "JGp4o3Jnu4xi",
        "colab_type": "text"
      },
      "source": [
        "**We start by creating the variables from equations 16 and 17 and setting thier values.**\n",
        "\n",
        "\n",
        "\\begin{align}\n",
        "t_{1} = 2 + \\sqrt{3},  t_{2} = \\frac{1}{\\sqrt{3}} \\tag{16}\\\\\n",
        "\\theta_{1} = \\frac{5\\pi}{12},  \\theta_{2} = \\frac{\\pi}{\\sqrt{6}} \\tag{17}\n",
        "\\end{align}"
      ]
    },
    {
      "cell_type": "code",
      "metadata": {
        "id": "AZC-TC1FZTRI",
        "colab_type": "code",
        "colab": {}
      },
      "source": [
        "#Here we set the the variables that our unitary matrix will be using.\n",
        "t_1 = ( 2 + Mh.sqrt(3) )\n",
        "t_2 = ( 1 / Mh.sqrt(3) )\n",
        "\n",
        "\n",
        "theta_1 = (5*Mh.pi)/12\n",
        "theta_2 = Mh.pi/6"
      ],
      "execution_count": 0,
      "outputs": []
    },
    {
      "cell_type": "markdown",
      "metadata": {
        "id": "_YF-IRdJwLCW",
        "colab_type": "text"
      },
      "source": [
        "**Next, the unitary gates of the binary unitray circuit is constructed.\n",
        "Below is a function that will return a binary 2x2 matrix as refered to equation 3. Cos function excluded.**\n",
        "\n",
        "\n",
        "\\begin{align}\n",
        "u(\\theta_{k}) &\\equiv \\begin{bmatrix}\n",
        "    cos(\\theta_{k})       & sin(\\theta_{k})  \\\\\n",
        "    -sin(\\theta_{k})      & cos(\\theta_{k})  \n",
        "\\end{bmatrix},\\notag\\\\\n",
        "&\\quad= \\cos(\\theta_{k}) \\begin{bmatrix}\n",
        "    1           &t_{k}  \\\\\n",
        "    -t_{k}  &1     &   \n",
        "\\end{bmatrix}.\\notag\\\\ \\tag{3}\n",
        "\\end{align}"
      ]
    },
    {
      "cell_type": "code",
      "metadata": {
        "id": "vrrTC2Lzc6mb",
        "colab_type": "code",
        "colab": {}
      },
      "source": [
        "#Function returns the unitary matrix Uk with the numerical value tk established \n",
        "def unitary_matrix(t_k):\n",
        "  u_k = np.array([[1,t_k],[-1*t_k,1]])\n",
        "  return u_k"
      ],
      "execution_count": 0,
      "outputs": []
    },
    {
      "cell_type": "markdown",
      "metadata": {
        "id": "NwCsCN3Xwzy5",
        "colab_type": "text"
      },
      "source": [
        "**Here we call on the above function and get in return the 2x2 unitary gate with its tk value established.**"
      ]
    },
    {
      "cell_type": "code",
      "metadata": {
        "id": "YMCSxpwRet6e",
        "colab_type": "code",
        "colab": {}
      },
      "source": [
        "u1 = unitary_matrix(t_1)\n",
        "u2 = unitary_matrix(t_2)\n",
        "one = np.identity(1)"
      ],
      "execution_count": 0,
      "outputs": []
    },
    {
      "cell_type": "markdown",
      "metadata": {
        "id": "jF_8TokMxPdn",
        "colab_type": "text"
      },
      "source": [
        "**It is useful to construct a function that will allow us to easily direct sum any amount of rank 2 tensors of arbitrary dimension.**"
      ]
    },
    {
      "cell_type": "code",
      "metadata": {
        "colab_type": "code",
        "id": "llBWlvUMo3Zz",
        "colab": {}
      },
      "source": [
        "#Direct Sum function for N 2D arrays. [[:]] AND [[:],[:],...]\n",
        "def direct_sum (*argv):\n",
        "  initial = argv[0]\n",
        "  for arg in argv[1:]:\n",
        "    shape_1 = np.asanyarray(initial.shape)\n",
        "    shape_2 = np.asanyarray(arg.shape)\n",
        "  \n",
        "    zeros_1 = np.zeros((shape_2[0],shape_1[1]))\n",
        "    zeros_2 = np.zeros((shape_1[0],shape_2[1]))\n",
        "\n",
        "    sub_d_s_1 = np.vstack((initial,zeros_1))\n",
        "    sub_d_s_2 = np.vstack((zeros_2,arg))\n",
        "  \n",
        "    sub_direct_sum = np.hstack((sub_d_s_1,sub_d_s_2))\n",
        "    initial = sub_direct_sum\n",
        "  return initial"
      ],
      "execution_count": 0,
      "outputs": []
    },
    {
      "cell_type": "markdown",
      "metadata": {
        "id": "D50Msb8XzeH0",
        "colab_type": "text"
      },
      "source": [
        "**Using the python function above the unitary circuit depicted below (purple highlight) will be manually constructed.**\n",
        "\n",
        "\n",
        "![MultiscaleCircuit](https://drive.google.com/uc?export=view&id=1T7eGN4Wi9CXknVbsPo5L70VmAVpcdG9K)\n",
        "\n",
        "\n",
        "\\begin{align}\n",
        "Fig. 2\n",
        "\\end{align}"
      ]
    },
    {
      "cell_type": "code",
      "metadata": {
        "id": "DjlvoTFc6fdn",
        "colab_type": "code",
        "outputId": "6c6b9923-a976-41c8-826c-a7f00027a943",
        "colab": {
          "base_uri": "https://localhost:8080/",
          "height": 204
        }
      },
      "source": [
        "#The bottom layer of Fig. 2b is constructed.\n",
        "u2_DS_u2 = direct_sum(u2,u2)\n",
        "print(\"u2 ⊕ u2:\")\n",
        "print (u2_DS_u2)\n",
        "print ()\n",
        "\n",
        "#The top layer of Fig. 2b is constructed.\n",
        "one_DS_u1_DS_one = direct_sum(one,u1,one)\n",
        "print(\"1 ⊕ u1 ⊕ 1:\")\n",
        "print (one_DS_u1_DS_one)\n"
      ],
      "execution_count": 0,
      "outputs": [
        {
          "output_type": "stream",
          "text": [
            "u2 ⊕ u2:\n",
            "[[ 1.          0.57735027  0.          0.        ]\n",
            " [-0.57735027  1.          0.          0.        ]\n",
            " [ 0.          0.          1.          0.57735027]\n",
            " [ 0.          0.         -0.57735027  1.        ]]\n",
            "\n",
            "1 ⊕ u1 ⊕ 1:\n",
            "[[ 1.          0.          0.          0.        ]\n",
            " [ 0.          1.          3.73205081  0.        ]\n",
            " [ 0.         -3.73205081  1.          0.        ]\n",
            " [ 0.          0.          0.          1.        ]]\n"
          ],
          "name": "stdout"
        }
      ]
    },
    {
      "cell_type": "code",
      "metadata": {
        "id": "qIhpG6CzGoXH",
        "colab_type": "code",
        "outputId": "d51439f6-cad6-4737-b1ad-f34c399bee6f",
        "colab": {
          "base_uri": "https://localhost:8080/",
          "height": 85
        }
      },
      "source": [
        "#Here we stitch the bottom and lower layer. \n",
        "unitary_circuit = np.matmul(u2_DS_u2,one_DS_u1_DS_one)\n",
        "print (unitary_circuit)"
      ],
      "execution_count": 0,
      "outputs": [
        {
          "output_type": "stream",
          "text": [
            "[[ 1.          0.57735027  2.15470054  0.        ]\n",
            " [-0.57735027  1.          3.73205081  0.        ]\n",
            " [ 0.         -3.73205081  1.          0.57735027]\n",
            " [ 0.          2.15470054 -0.57735027  1.        ]]\n"
          ],
          "name": "stdout"
        }
      ]
    },
    {
      "cell_type": "markdown",
      "metadata": {
        "id": "wupQtMNX-FLZ",
        "colab_type": "text"
      },
      "source": [
        "**With the unitary circuit now constructed we can now obtain the scaling sequence h by the equation below or Fig.2C** "
      ]
    },
    {
      "cell_type": "markdown",
      "metadata": {
        "id": "Q2IJOGgFxw69",
        "colab_type": "text"
      },
      "source": [
        "$$\n",
        "\\begin{align}\n",
        " \\langle {\\bf {U}} \\times \\mathbb{1}_{r}  \\rangle = \\textbf{h} = (u_{2}\n",
        " \\oplus u_{2}) \\times (1 \\oplus u_{1} \\oplus 1) \\times \\lbrack0,0,1,0\\rbrack ^\\dagger   \\tag{10 & 11}\\\\\n",
        "\\end{align}\n",
        "$$"
      ]
    },
    {
      "cell_type": "markdown",
      "metadata": {
        "id": "y_eJB-Ll2g-P",
        "colab_type": "text"
      },
      "source": [
        "$$\n",
        "\\begin{align}\n",
        " \\langle {\\bf {U}} \\times \\mathbb{1}_{r}  \\rangle = \\tag{10 & 11}\\\\\n",
        "\\end{align}\n",
        "$$"
      ]
    },
    {
      "cell_type": "code",
      "metadata": {
        "id": "hzHjj8CK-DSN",
        "colab_type": "code",
        "outputId": "a2e5b524-229c-406e-a44e-e2350d897159",
        "colab": {
          "base_uri": "https://localhost:8080/",
          "height": 34
        }
      },
      "source": [
        "odd_one = [0,0,1,0]\n",
        "h = np.matmul(unitary_circuit,odd_one)\n",
        "print (h)"
      ],
      "execution_count": 0,
      "outputs": [
        {
          "output_type": "stream",
          "text": [
            "[ 2.15470054  3.73205081  1.         -0.57735027]\n"
          ],
          "name": "stdout"
        }
      ]
    },
    {
      "cell_type": "markdown",
      "metadata": {
        "id": "VAzBiCit-7nq",
        "colab_type": "text"
      },
      "source": [
        "**The above result does not seem to match the result of equation 18 (see below). We need to normalize our result for this:**\n",
        "\n",
        "\n",
        "\\begin{align}\n",
        "\\bf {h} \\approx \\begin{bmatrix}\n",
        "    0.48296\\\\\n",
        "    0.83651\\\\\n",
        "    0.22414\\\\\n",
        "    -0.12940\n",
        "\\end{bmatrix},    \n",
        "\\bf{g} \\approx \\begin{bmatrix}\n",
        "    0.12940\\\\\n",
        "    0.22414\\\\\n",
        "    -0.83651\\\\\n",
        "    0.48296\n",
        "\\end{bmatrix}\\tag{18}\\\\\n",
        "\\end{align}"
      ]
    },
    {
      "cell_type": "code",
      "metadata": {
        "id": "0s3mxIgz_QJK",
        "colab_type": "code",
        "outputId": "efe9de9b-eea9-4443-f4d6-e2cad0af7125",
        "colab": {
          "base_uri": "https://localhost:8080/",
          "height": 34
        }
      },
      "source": [
        "h_squared = np.matmul(h,h)\n",
        "h_norm = Mh.sqrt(np.sum(h_squared))\n",
        "print (h/h_norm)"
      ],
      "execution_count": 0,
      "outputs": [
        {
          "output_type": "stream",
          "text": [
            "[ 0.48296291  0.8365163   0.22414387 -0.12940952]\n"
          ],
          "name": "stdout"
        }
      ]
    },
    {
      "cell_type": "markdown",
      "metadata": {
        "id": "emzBE8RI_vhe",
        "colab_type": "text"
      },
      "source": [
        "**Now lets recover the wavelet sequence *g* from the unitary circuit by multiplying it with the even one vector.**"
      ]
    },
    {
      "cell_type": "code",
      "metadata": {
        "id": "2oML0wPgjmuD",
        "colab_type": "code",
        "outputId": "16a86535-e571-429f-efb1-2820597fe68e",
        "colab": {
          "base_uri": "https://localhost:8080/",
          "height": 34
        }
      },
      "source": [
        "even_one = [0,1,0,0]\n",
        "g = np.matmul(unitary_circuit,even_one)\n",
        "print (g)"
      ],
      "execution_count": 0,
      "outputs": [
        {
          "output_type": "stream",
          "text": [
            "[ 0.57735027  1.         -3.73205081  2.15470054]\n"
          ],
          "name": "stdout"
        }
      ]
    },
    {
      "cell_type": "markdown",
      "metadata": {
        "id": "xZUuPT_kArf6",
        "colab_type": "text"
      },
      "source": [
        "**Again lets normalize this sequence to compare it with its result in equation 18.**"
      ]
    },
    {
      "cell_type": "code",
      "metadata": {
        "id": "tkHhifWaA1DQ",
        "colab_type": "code",
        "outputId": "b7a6bbf8-555b-454e-b85a-149290d52475",
        "colab": {
          "base_uri": "https://localhost:8080/",
          "height": 34
        }
      },
      "source": [
        "g_squared = np.matmul(g,g)\n",
        "g_norm = Mh.sqrt(np.sum(g_squared))\n",
        "print (g/g_norm)"
      ],
      "execution_count": 0,
      "outputs": [
        {
          "output_type": "stream",
          "text": [
            "[ 0.12940952  0.22414387 -0.8365163   0.48296291]\n"
          ],
          "name": "stdout"
        }
      ]
    },
    {
      "cell_type": "markdown",
      "metadata": {
        "id": "3ArGB--GNPyb",
        "colab_type": "text"
      },
      "source": [
        "**It will be usefull to not have to construct the binary uniatary circuit ourselves. The python function below will aid us in this. It needs to have the lenght of the bottom portion of the circuit give and the unitary gates in their respective stacking order. Here the depth of the circuit is restricted by the number of unitary gates.**"
      ]
    },
    {
      "cell_type": "code",
      "metadata": {
        "id": "S8X8CKvnfKgO",
        "colab_type": "code",
        "colab": {}
      },
      "source": [
        "def b_unit_construct (M,*othersss):\n",
        "  size = M*othersss[0].shape[0]\n",
        "  A = np.zeros((M,size,size))\n",
        "  i = 0\n",
        "  for other in othersss:\n",
        "    Uk = other\n",
        "    for m in range(int(0+i),int(M-1)):\n",
        "      Uk = direct_sum(Uk,other)\n",
        "    if i==0:\n",
        "      A[i,:,:] = Uk\n",
        "    else:\n",
        "      ones = np.identity(i)\n",
        "      Uk = direct_sum(ones,Uk,ones)\n",
        "      A[i,:,:] = Uk\n",
        "    del Uk\n",
        "    i += 1\n",
        "  \n",
        "  Result = A[0,:,:]\n",
        "  for m in range(1,M):\n",
        "    Result = np.matmul(Result,A[m,:,:])\n",
        "  return Result\n",
        "      "
      ],
      "execution_count": 0,
      "outputs": []
    },
    {
      "cell_type": "markdown",
      "metadata": {
        "id": "jqY4yC4oOxa1",
        "colab_type": "text"
      },
      "source": [
        "**Lets show this works by generating the scaling sequence again.**"
      ]
    },
    {
      "cell_type": "code",
      "metadata": {
        "id": "vxITfqdIFF4c",
        "colab_type": "code",
        "outputId": "acdfda22-5fdb-4181-c0b2-645539443716",
        "colab": {
          "base_uri": "https://localhost:8080/",
          "height": 34
        }
      },
      "source": [
        "unitary_circuit = b_unit_construct(2,u2,u1)\n",
        "h = np.matmul(unitary_circuit,odd_one)\n",
        "print (np.round(h/h_norm,5))#using h_norm calculated from before"
      ],
      "execution_count": 0,
      "outputs": [
        {
          "output_type": "stream",
          "text": [
            "[ 0.48296  0.83652  0.22414 -0.12941]\n"
          ],
          "name": "stdout"
        }
      ]
    },
    {
      "cell_type": "code",
      "metadata": {
        "id": "mT9Ryj2ZcO3T",
        "colab_type": "code",
        "outputId": "9ac5f1b8-fc2d-4ed2-8c2f-7b449c280c55",
        "colab": {
          "base_uri": "https://localhost:8080/",
          "height": 38
        }
      },
      "source": [
        "%%html\n",
        "<marquee style='width: 30%; color: green;'><b>Success!</b></marquee>"
      ],
      "execution_count": 0,
      "outputs": [
        {
          "output_type": "display_data",
          "data": {
            "text/html": [
              "<marquee style='width: 30%; color: green;'><b>Success!</b></marquee>"
            ],
            "text/plain": [
              "<IPython.core.display.HTML object>"
            ]
          },
          "metadata": {
            "tags": []
          }
        }
      ]
    },
    {
      "cell_type": "markdown",
      "metadata": {
        "id": "swjCO4t1b63p",
        "colab_type": "text"
      },
      "source": [
        "# D6 Daubechies scaling sequence\n",
        "In order to obtain a 6 Daubechies sequence with a binary unitary circuit it is neccesary to have a 3 depth circuit. In general, in order to obtain a 2N Daubechies sequence a N depth circuit is needed. Let's an example below. \n"
      ]
    },
    {
      "cell_type": "markdown",
      "metadata": {
        "id": "lU3IOfxUSxzH",
        "colab_type": "text"
      },
      "source": [
        "**One can find that the family of t_k values for a 3 depth unitary circuit are:**\n",
        "\n",
        "\n",
        "\\begin{align}\n",
        "t_{1} = 0.105889,  t_{2} = -1.83118,  t_{3} = -0.412287 \\tag{Solution.1}\\\\\n",
        "\\ t_{1} = 9.44381, t_{2} = 1.83118, t_{3} = 0.412287 \\tag{Solution.2}\n",
        "\\end{align}\n",
        "\n",
        "\n",
        "**Solution.1 is used for the following demonstartion**"
      ]
    },
    {
      "cell_type": "code",
      "metadata": {
        "id": "24k9mVS_joSj",
        "colab_type": "code",
        "colab": {}
      },
      "source": [
        "#Solution.1\n",
        "t_1 = 0.105889\n",
        "t_2 = -1.83118\n",
        "t_3 = -0.412287\n",
        "\n",
        "#Solution.2\n",
        "#t_1 = 9.44381\n",
        "#t_2 = 1.83118\n",
        "#t_3 = 0.412287\n",
        "\n",
        "u1 = unitary_matrix(t_1)\n",
        "u2 = unitary_matrix(t_2)\n",
        "u3 = unitary_matrix(t_3)"
      ],
      "execution_count": 0,
      "outputs": []
    },
    {
      "cell_type": "markdown",
      "metadata": {
        "id": "zKmmPHMYUNn0",
        "colab_type": "text"
      },
      "source": [
        "**Lets create a 3 depth unitary circuit in order to obtain the D6 Daubechies scaling sequence.**"
      ]
    },
    {
      "cell_type": "code",
      "metadata": {
        "id": "wIPnC0CWULJ9",
        "colab_type": "code",
        "outputId": "7694e7d2-cac3-42f3-9cdc-380cb7496b36",
        "colab": {
          "base_uri": "https://localhost:8080/",
          "height": 119
        }
      },
      "source": [
        "unitary_circuit_3 = b_unit_construct(3,u3,u2,u1)\n",
        "print (unitary_circuit_3)"
      ],
      "execution_count": 0,
      "outputs": [
        {
          "output_type": "stream",
          "text": [
            "[[ 1.         -0.412287    0.75497171  0.0799432   0.          0.        ]\n",
            " [ 0.412287    1.         -1.83118    -0.19390182  0.          0.        ]\n",
            " [ 0.          1.83118     1.04365666 -0.306398    0.75497171  0.        ]\n",
            " [ 0.          0.75497171  0.306398    1.04365666 -1.83118     0.        ]\n",
            " [ 0.          0.         -0.19390182  1.83118     1.         -0.412287  ]\n",
            " [ 0.          0.         -0.0799432   0.75497171  0.412287    1.        ]]\n"
          ],
          "name": "stdout"
        }
      ]
    },
    {
      "cell_type": "markdown",
      "metadata": {
        "id": "ori2n3GeZmE6",
        "colab_type": "text"
      },
      "source": [
        "**The D6 Daubechies sequence is:**"
      ]
    },
    {
      "cell_type": "code",
      "metadata": {
        "id": "pYSllHVmYr32",
        "colab_type": "code",
        "outputId": "ced9fd2f-af91-43c5-aae2-07c68d70569e",
        "colab": {
          "base_uri": "https://localhost:8080/",
          "height": 34
        }
      },
      "source": [
        "#Using the result from above\n",
        "even_one_3 = [0,0,0,1,0,0]\n",
        "h6 = np.matmul(unitary_circuit_3,even_one_3)\n",
        "\n",
        "h6_squared = np.matmul(h6,h6)\n",
        "h6_norm = Mh.sqrt(np.sum(h6_squared))\n",
        "print (h6/h6_norm)"
      ],
      "execution_count": 0,
      "outputs": [
        {
          "output_type": "stream",
          "text": [
            "[ 0.03522619 -0.08544094 -0.13501129  0.45987711  0.80689158  0.33267091]\n"
          ],
          "name": "stdout"
        }
      ]
    },
    {
      "cell_type": "markdown",
      "metadata": {
        "id": "UQDq4s4hZ3ty",
        "colab_type": "text"
      },
      "source": [
        "**Let's compre these with a \n",
        "[standard result.](https://en.wikipedia.org/wiki/Daubechies_wavelet)\n",
        "Wikipedia states the D6 sequence is: **\n",
        "\n",
        "~ [0.4705, 1.1911, 0.6504, -0.1909, -0.1208, 0.0498]\n",
        "\n",
        "**These are clearly not normalize, lets do so and compare...**\n"
      ]
    },
    {
      "cell_type": "code",
      "metadata": {
        "id": "ES8FglXyZcQ2",
        "colab_type": "code",
        "outputId": "0c90cd3c-4e1d-45a7-ac6d-154274603908",
        "colab": {
          "base_uri": "https://localhost:8080/",
          "height": 34
        }
      },
      "source": [
        "f = np.asanyarray([0.47046721, 1.19111692, 0.650365, -0.19093442, -0.12083221, 0.0498175])\n",
        "f_squared = np.matmul(f,f)\n",
        "f_norm = Mh.sqrt(np.sum(f_squared))\n",
        "print (f/f_norm)"
      ],
      "execution_count": 0,
      "outputs": [
        {
          "output_type": "stream",
          "text": [
            "[ 0.32337673  0.81871698  0.44702989 -0.13123922 -0.0830543   0.03424217]\n"
          ],
          "name": "stdout"
        }
      ]
    },
    {
      "cell_type": "markdown",
      "metadata": {
        "id": "lh7dfQqPa5O8",
        "colab_type": "text"
      },
      "source": [
        "They are the same sequence! (Diferent order and slighty off ). We can say that these unitary circuits can construct wavelet scaling sequence to any power "
      ]
    },
    {
      "cell_type": "markdown",
      "metadata": {
        "id": "LqwbwNKeSUu8",
        "colab_type": "text"
      },
      "source": [
        "-------Under constrcution------"
      ]
    },
    {
      "cell_type": "code",
      "metadata": {
        "id": "ROaUVe1jgC-N",
        "colab_type": "code",
        "outputId": "d701171b-402f-4799-e622-e382af9eeb20",
        "colab": {
          "base_uri": "https://localhost:8080/",
          "height": 51
        }
      },
      "source": [
        "#Generating a random unitary vector\n",
        "np.random.seed(2)\n",
        "rand_array = np.random.uniform(0,1,size=(4,))\n",
        "rand_dot = np.multiply(rand_array,rand_array)\n",
        "norm_factor = Mh.sqrt(np.sum(rand_dot))\n",
        "rand_normal = rand_array/norm_factor\n",
        "print (\"Random unitary vector: \"+str(rand_normal))\n",
        "print (\"Self dot product of random unitary vector: \"+str(np.matmul(rand_normal,rand_normal)))"
      ],
      "execution_count": 0,
      "outputs": [
        {
          "output_type": "stream",
          "text": [
            "Random unitary vector: [0.52779162 0.03138488 0.66539138 0.52697752]\n",
            "Self dot product of random unitary vector: 0.9999999999999998\n"
          ],
          "name": "stdout"
        }
      ]
    },
    {
      "cell_type": "code",
      "metadata": {
        "id": "iNlh7Sq4POUJ",
        "colab_type": "code",
        "outputId": "e1bb5b39-0891-46dd-8242-51b2b2eac0e6",
        "colab": {
          "base_uri": "https://localhost:8080/",
          "height": 34
        }
      },
      "source": [
        "R = np.matmul(rand_normal,unitary_circuit)\n",
        "print (R)"
      ],
      "execution_count": 0,
      "outputs": [
        {
          "output_type": "stream",
          "text": [
            "[ 0.50967155 -1.01169019  1.61550363  0.91114141]\n"
          ],
          "name": "stdout"
        }
      ]
    },
    {
      "cell_type": "code",
      "metadata": {
        "id": "RWHIqMqpPx_r",
        "colab_type": "code",
        "outputId": "b60369b1-f4f2-472a-9d1c-4a71e64aca5b",
        "colab": {
          "base_uri": "https://localhost:8080/",
          "height": 85
        }
      },
      "source": [
        "Rprime = R\n",
        "Rprime_dot = np.multiply(Rprime,Rprime)\n",
        "norm_factor = Mh.sqrt(np.sum(Rprime_dot))\n",
        "Rprime_normal = Rprime/norm_factor\n",
        "print (Rprime_normal)\n",
        "print (np.matmul(Rprime_normal,Rprime_normal))\n",
        "\n",
        "rand_prime = np.matmul(unitary_circuit,Rprime_normal)\n",
        "print (rand_prime)\n",
        "rand_prime_dot = np.multiply(rand_prime,rand_prime)\n",
        "norm_factor = Mh.sqrt(np.sum(rand_prime_dot))\n",
        "rand_normal_prime = rand_prime/norm_factor\n",
        "print (rand_normal_prime)"
      ],
      "execution_count": 0,
      "outputs": [
        {
          "output_type": "stream",
          "text": [
            "[ 0.23451306 -0.46550482  0.74333501  0.41923973]\n",
            "0.9999999999999998\n",
            "[ 1.56741807  2.17326301  2.72267083 -1.01294843]\n",
            "[ 0.39660667  0.54990472  0.68892239 -0.2563082 ]\n"
          ],
          "name": "stdout"
        }
      ]
    },
    {
      "cell_type": "markdown",
      "metadata": {
        "id": "poVN2V4zbKCZ",
        "colab_type": "text"
      },
      "source": [
        "# Circuit Construction Algorithim\n",
        "If given a 2N sequence of scaling coefficients there is a way to encode them into the θ values of a N depth binary uitary circuit."
      ]
    },
    {
      "cell_type": "code",
      "metadata": {
        "id": "ksEVVuYmVDD-",
        "colab_type": "code",
        "colab": {}
      },
      "source": [
        ""
      ],
      "execution_count": 0,
      "outputs": []
    }
  ]
}